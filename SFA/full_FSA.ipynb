{
 "cells": [
  {
   "cell_type": "markdown",
   "metadata": {},
   "source": [
    "### install dependencies"
   ]
  },
  {
   "cell_type": "code",
   "execution_count": 1,
   "metadata": {},
   "outputs": [
    {
     "name": "stdout",
     "output_type": "stream",
     "text": [
      "Note: you may need to restart the kernel to use updated packages.Requirement already satisfied: openai in c:\\users\\admin\\appdata\\local\\programs\\python\\python311\\lib\\site-packages (1.35.7)\n",
      "Requirement already satisfied: anyio<5,>=3.5.0 in c:\\users\\admin\\appdata\\local\\programs\\python\\python311\\lib\\site-packages (from openai) (4.4.0)\n",
      "Requirement already satisfied: distro<2,>=1.7.0 in c:\\users\\admin\\appdata\\local\\programs\\python\\python311\\lib\\site-packages (from openai) (1.8.0)\n",
      "Requirement already satisfied: httpx<1,>=0.23.0 in c:\\users\\admin\\appdata\\local\\programs\\python\\python311\\lib\\site-packages (from openai) (0.27.0)\n",
      "Requirement already satisfied: pydantic<3,>=1.9.0 in c:\\users\\admin\\appdata\\local\\programs\\python\\python311\\lib\\site-packages (from openai) (2.7.4)\n",
      "Requirement already satisfied: sniffio in c:\\users\\admin\\appdata\\local\\programs\\python\\python311\\lib\\site-packages (from openai) (1.3.0)\n",
      "Requirement already satisfied: tqdm>4 in c:\\users\\admin\\appdata\\local\\programs\\python\\python311\\lib\\site-packages (from openai) (4.66.4)\n",
      "Requirement already satisfied: typing-extensions<5,>=4.7 in c:\\users\\admin\\appdata\\local\\programs\\python\\python311\\lib\\site-packages (from openai) (4.12.2)\n",
      "Requirement already satisfied: idna>=2.8 in c:\\users\\admin\\appdata\\local\\programs\\python\\python311\\lib\\site-packages (from anyio<5,>=3.5.0->openai) (2.10)\n",
      "Requirement already satisfied: certifi in c:\\users\\admin\\appdata\\roaming\\python\\python311\\site-packages (from httpx<1,>=0.23.0->openai) (2022.12.7)\n",
      "Requirement already satisfied: httpcore==1.* in c:\\users\\admin\\appdata\\local\\programs\\python\\python311\\lib\\site-packages (from httpx<1,>=0.23.0->openai) (1.0.5)\n",
      "Requirement already satisfied: h11<0.15,>=0.13 in c:\\users\\admin\\appdata\\local\\programs\\python\\python311\\lib\\site-packages (from httpcore==1.*->httpx<1,>=0.23.0->openai) (0.14.0)\n",
      "Requirement already satisfied: annotated-types>=0.4.0 in c:\\users\\admin\\appdata\\local\\programs\\python\\python311\\lib\\site-packages (from pydantic<3,>=1.9.0->openai) (0.7.0)\n",
      "Requirement already satisfied: pydantic-core==2.18.4 in c:\\users\\admin\\appdata\\local\\programs\\python\\python311\\lib\\site-packages (from pydantic<3,>=1.9.0->openai) (2.18.4)\n",
      "Requirement already satisfied: colorama in c:\\users\\admin\\appdata\\roaming\\python\\python311\\site-packages (from tqdm>4->openai) (0.4.6)\n",
      "\n"
     ]
    },
    {
     "name": "stderr",
     "output_type": "stream",
     "text": [
      "\n",
      "[notice] A new release of pip is available: 24.0 -> 24.1.1\n",
      "[notice] To update, run: python.exe -m pip install --upgrade pip\n"
     ]
    }
   ],
   "source": [
    "%pip install openai"
   ]
  },
  {
   "cell_type": "markdown",
   "metadata": {},
   "source": [
    "### Request hint from word Function"
   ]
  },
  {
   "cell_type": "code",
   "execution_count": 11,
   "metadata": {},
   "outputs": [],
   "source": [
    "from openai import OpenAI\n",
    "import os\n",
    "import json\n",
    "def request_hint(word):\n",
    "    API_KEY = \"sk-jCsvhJjSF0Jaq63NrfZJnvFsvNyXcO6WtuuhIAs70cgR77jo\" #\n",
    "\n",
    "    client = OpenAI(\n",
    "        api_key=API_KEY,  # Directly using the API key\n",
    "        base_url=\"https://api.opentyphoon.ai/v1\",\n",
    "    )\n",
    "\n",
    "    stream = client.chat.completions.create(\n",
    "        model=\"typhoon-v1.5x-70b-instruct\",\n",
    "        messages=[\n",
    "            {\n",
    "                \"role\": \"system\",\n",
    "                \"content\": \"\"\"\n",
    "                คุณเป็นนักบำบัดการพูดที่กำลังช่วยผู้ป่วยที่มีภาวะเสียการพูดฝึกฝนทักษะการพูดและการสื่อสาร จากโรค Aphasia\n",
    "                ผู้ป่วยอาจมีปัญหาในการหาคำและการสร้างประโยค คุณมีหน้าที่ช่วยผู้ป่วยให้สามารถคิดคำที่คุณใบ้ออก โดยที่ไม่บอกคำนั้นๆโดยตรง,ใบ้คนไข้โดยหัวข้อดังนี้\n",
    "                1.ประเภท\n",
    "                2.ความสามารถจากสิ่งนี้\n",
    "                3.ลักษณะ\n",
    "                4.สถานที่\n",
    "                5.ความเกี่ยวข้อง\n",
    "                6.กริยา\n",
    "                ***\n",
    "                ตัวอย่างที่ 1 การใบ้คุณลักษณะสำหรับคำว่า \"แอปเปิ้ล\"\n",
    "                1.ประเภท = \"ผลไม้\"\n",
    "                2.ความสามารถจากสิ่งนี้ = \"นิยมนำมากิน\"\n",
    "                3.ลักษณะ = \"ผลมีสีแดงหรือสีเขียว, ผลมีทรงกลม, ผิวค่อนข้างเรียบ\"\n",
    "                4.สถานที่ = \"ปลูกที่สวนผลไม้, ถูกขายที่ร้านขายของชำ, เก็บในตู้เย็น\"\n",
    "                5.ความเกี่ยวข้อง = \"สามารถนำมาทำขนมพาย, เป็นประโยชน์ต่อสุขภาพ\"\n",
    "                6.กิริยา = \"สามารถกินได้, เก็บผลได้\"\n",
    "\n",
    "                ตัวอย่างที่ 2 การใบ้คุณลักษณะสำหรับคำว่า \"หมา\"\n",
    "                1.ประเภท = \"สัตว์\"\n",
    "                2.ความสามารถจากสิ่งนี้ = \"ใช้เฝ้าบ้าน\" \n",
    "                3.ลักษณะ = \"มีสี่ขา หูสองข้าง และหาง ขนาดและรูปร่างอาจแตกต่างกันไปตามสายพันธุ์, บางสายพันธุ์มีขนสั้น บางสายพันธุ์มีขนยาว มีหลากหลายสี เช่น ขาว ดำ น้ำตาล , ส่วนใหญ่เป็นสัตว์ที่ซื่อสัตย์และจงรักภักดีกับเจ้าของ\"\n",
    "                4.สถานที่ = \"อาจจะเจอที่วัด, หน้าบ้าน, หน้าเซเว่น\"\n",
    "                5.ความเกี่ยวข้อง = \"เป็นสัตว์เลี้ยง,ถูกฝึกเพื่อทำงานต่าง ๆ เช่น การค้นหาและกู้ภัย การนำทางสำหรับผู้พิการทางสายตา\"\n",
    "                6.กิริยา = \"เห่า, วิ่ง, ฉี่ใส่ล้อ \" \n",
    "\n",
    "                ตัวอย่างที่ 3 การใบ้คุณลักษณะสำหรับคำว่า \"พระ\"\n",
    "                1.ประเภท = \"บุคคล\"\n",
    "                2.ความสามารถจากสิ่งนี้ = \"เป็นที่ยึดเหนี่ยวจิตใจ\" \n",
    "                3.ลักษณะ = \"ห่มผ้าสีส้ม, ไม่ใส่เครื่องประดับ\"\n",
    "                4.สถานที่ = \"เจอที่วัด, บางทีมาตามหน้าบ้าน\"\n",
    "                5.ความเกี่ยวข้อง = \"คนไทยเคารพนับถือ, เกี่ยวข้องกับศาสนาพุทธ\"\n",
    "                6.กิริยา = \"สวดมนต์,บิณฑบาท\" \n",
    "                ,โดยตอบแค่ การไบ้\n",
    "                \"\"\"\n",
    "            },\n",
    "            {\n",
    "                \"role\": \"user\",\n",
    "                \"content\": f\"ผมอยากฝึกพูดคำว่า {word}\"\n",
    "            }\n",
    "        ],\n",
    "        max_tokens=200,\n",
    "        temperature=0.0,\n",
    "        top_p=1,\n",
    "        stream=True,\n",
    "    )\n",
    "    output = \"\"\n",
    "    for chunk in stream:\n",
    "        if hasattr(chunk, 'choices') and len(chunk.choices) > 0:\n",
    "            choice = chunk.choices[0]\n",
    "            if hasattr(choice, 'delta') and hasattr(choice.delta, 'content'):\n",
    "                # print(choice.delta.content,end=\"\")\n",
    "                output+=choice.delta.content\n",
    "    # Split the string into lines\n",
    "    import json\n",
    "    lines = output.split('\\n')\n",
    "\n",
    "    # Create a dictionary\n",
    "    ds = {}\n",
    "\n",
    "    data_dict = {}\n",
    "    for line in lines:\n",
    "        key_value = line.split(' = ')\n",
    "        key = key_value[0].split('. ')[1]\n",
    "        value = key_value[1].strip('\\\"').split(\", \")\n",
    "        data_dict[key] = value\n",
    "    ds[word] = data_dict\n",
    "    json_data = json.dumps(ds, ensure_ascii=False, indent=4)\n",
    "    return json_data"
   ]
  },
  {
   "cell_type": "markdown",
   "metadata": {},
   "source": [
    "### Specific Domain for word selection function"
   ]
  },
  {
   "cell_type": "code",
   "execution_count": 75,
   "metadata": {},
   "outputs": [],
   "source": [
    "def Spc_word(occupation,num_of_word):\n",
    "    API_KEY = \"sk-jCsvhJjSF0Jaq63NrfZJnvFsvNyXcO6WtuuhIAs70cgR77jo\" #\n",
    "\n",
    "    client = OpenAI(\n",
    "        api_key=API_KEY,  # Directly using the API key\n",
    "        base_url=\"https://api.opentyphoon.ai/v1\",\n",
    "    )\n",
    "\n",
    "    stream = client.chat.completions.create(\n",
    "        model=\"typhoon-v1.5x-70b-instruct\",\n",
    "        messages=[\n",
    "            {\n",
    "                \"role\": \"system\",\n",
    "                \"content\": f\"คุณเป็นนักบำบัดการพูดที่กำลังช่วยผู้ป่วยที่มีภาวะเสียการพูดฝึกฝนทักษะการพูดและการสื่อสาร จากโรค Aphasia, ผู้ป่วยอาจมีปัญหาในการหาคำและการสร้างประโยค ดังนั้นคุณมีหน้าที่หาคำที่ใช้บ่อยๆในอาชีพของผู้ป่วยคนนั้นมา {num_of_word} คำ,โดยตอบเฉพาะคำเท่านั้น\"\n",
    "    \n",
    "            \n",
    "            },\n",
    "            {\n",
    "                \"role\": \"user\",\n",
    "                \"content\": f\"เรามีอาชีพคือ {occupation}\"\n",
    "            }\n",
    "        ],\n",
    "        max_tokens=200,\n",
    "        temperature=0.0,\n",
    "        top_p=1,\n",
    "        stream=True,\n",
    "    )\n",
    "    output= \"\"\n",
    "    for chunk in stream:\n",
    "        if hasattr(chunk, 'choices') and len(chunk.choices) > 0:\n",
    "            choice = chunk.choices[0]\n",
    "            if hasattr(choice, 'delta') and hasattr(choice.delta, 'content'):\n",
    "                output+=choice.delta.content\n",
    "    if ('\\n' in output):\n",
    "        output = [line.split('. ')[1] for line in output.strip().split('\\n')]\n",
    "    return output"
   ]
  },
  {
   "cell_type": "markdown",
   "metadata": {},
   "source": [
    "### TEST"
   ]
  },
  {
   "cell_type": "markdown",
   "metadata": {},
   "source": [
    "### demo"
   ]
  },
  {
   "cell_type": "code",
   "execution_count": 53,
   "metadata": {},
   "outputs": [],
   "source": [
    "# def guess_word(occupation,num_of_word,word):\n",
    "#     if (occupation != \"\"):\n",
    "#         set_of_word = Spc_word(occupation,num_of_word)\n",
    "#         for i in range(num_of_word):\n",
    "#             data = json.loads(request_hint(set_of_word[i]))[set_of_word[i]]\n",
    "#             user_answer = \"\"\n",
    "#             for k in data:\n",
    "#                 print(f'คำใบ้เกี่ยวกับ{k}: {data[k]}')\n",
    "#                 user_answer = str(input(\"คำตอบ\"))\n",
    "#                 if (user_answer == set_of_word[i]):\n",
    "#                     print(\"ถูก\")\n",
    "#                     break\n",
    "#                 elif (user_answer != set_of_word[i] and k == \"กิริยา\"):\n",
    "#                     print(f'ผิดหมด เฉลยคือคำว่า {set_of_word[i]}')\n",
    "                    \n",
    "#                 else:\n",
    "#                     print(\"ผิด\")\n",
    "#     else:\n",
    "\n",
    "#         data = json.loads(request_hint(word))[word]\n",
    "#         user_answer = \"\"\n",
    "#         for k in data:\n",
    "#             print(f'คำใบ้เกี่ยวกับ{k}: {data[k]}')\n",
    "#             user_answer = str(input(\"คำตอบ\"))\n",
    "#             if (user_answer == word):\n",
    "#                 print(\"ถูก\")\n",
    "#                 break\n",
    "#             elif (user_answer != word and k == \"กิริยา\"):\n",
    "#                 print(f'ผิดหมด เฉลยคือคำว่า {word}')\n",
    "                \n",
    "#             else:\n",
    "#                 print(\"ผิด\")\n"
   ]
  },
  {
   "cell_type": "markdown",
   "metadata": {},
   "source": [
    "### for api"
   ]
  },
  {
   "cell_type": "code",
   "execution_count": 84,
   "metadata": {},
   "outputs": [],
   "source": [
    "def guess_word(occupation,num_of_word,word):\n",
    "    if (occupation != \"\"):\n",
    "        ds = {}\n",
    "        set_of_word = Spc_word(occupation,num_of_word)\n",
    "        for i in range(num_of_word):\n",
    "            ds[set_of_word[i]] = request_hint(set_of_word[i])\n",
    "        json_data = json.dumps(ds, ensure_ascii=False, indent=4)\n",
    "        return json_data\n",
    "            \n",
    "    else:\n",
    "        data = request_hint(word)\n",
    "        return data\n"
   ]
  },
  {
   "cell_type": "code",
   "execution_count": 88,
   "metadata": {},
   "outputs": [
    {
     "name": "stdout",
     "output_type": "stream",
     "text": [
      "{'ภารกิจ': '{\\n    \"ภารกิจ\": {\\n        \"ประเภท\": [\\n            \"งาน\"\\n        ],\\n        \"ความสามารถจากสิ่งนี้\": [\\n            \"ต้องทำเพื่อให้งานสำเร็จ\"\\n        ],\\n        \"ลักษณะ\": [\\n            \"อาจมีความยากง่ายแตกต่างกันไป\"\\n        ],\\n        \"สถานที่\": [\\n            \"อาจจะทำที่สำนักงาน\",\\n            \"ที่บ้าน\",\\n            \"หรือในที่ต่างๆ\"\\n        ],\\n        \"ความเกี่ยวข้อง\": [\\n            \"มักจะมีผู้รับผิดชอบ\",\\n            \"มีระยะเวลาที่กำหนด\"\\n        ],\\n        \"กิริยา\": [\\n            \"ทำ\",\\n            \"ประสานงาน\",\\n            \"จัดการ\"\\n        ]\\n    }\\n}', 'ยุทธการ': '{\\n    \"ยุทธการ\": {\\n        \"ประเภท\": [\\n            \"การกระทำ\"\\n        ],\\n        \"ความสามารถจากสิ่งนี้\": [\\n            \"ตัดสินใจในการต่อสู้\"\\n        ],\\n        \"ลักษณะ\": [\\n            \"มีการวางแผน\",\\n            \"มีการเตรียมพร้อม\",\\n            \"มีการตัดสินใจ\"\\n        ],\\n        \"สถานที่\": [\\n            \"สนามรบ\",\\n            \"ที่ตั้งของกองทัพ\"\\n        ],\\n        \"ความเกี่ยวข้อง\": [\\n            \"เกี่ยวข้องกับการสงคราม\",\\n            \"การต่อสู้\"\\n        ],\\n        \"กิริยา\": [\\n            \"วางแผน\",\\n            \"ตัดสินใจ\",\\n            \"สั่งการ\"\\n        ]\\n    }\\n}'}\n"
     ]
    }
   ],
   "source": [
    "guess_word(occupation=\"ทหาร\",num_of_word=2,word=\"\")"
   ]
  }
 ],
 "metadata": {
  "kernelspec": {
   "display_name": "uphasia_scb",
   "language": "python",
   "name": "python3"
  },
  "language_info": {
   "codemirror_mode": {
    "name": "ipython",
    "version": 3
   },
   "file_extension": ".py",
   "mimetype": "text/x-python",
   "name": "python",
   "nbconvert_exporter": "python",
   "pygments_lexer": "ipython3",
   "version": "3.11.2"
  }
 },
 "nbformat": 4,
 "nbformat_minor": 2
}
