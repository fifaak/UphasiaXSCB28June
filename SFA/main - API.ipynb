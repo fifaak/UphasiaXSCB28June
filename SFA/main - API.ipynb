{
 "cells": [
  {
   "cell_type": "code",
   "execution_count": 1,
   "metadata": {},
   "outputs": [
    {
     "name": "stdout",
     "output_type": "stream",
     "text": [
      "Note: you may need to restart the kernel to use updated packages.\n",
      "Note: you may need to restart the kernel to use updated packages.\n"
     ]
    }
   ],
   "source": [
    "%pip install --upgrade -q pip setuptools wheel\n",
    "%pip install -q Pylance PyObjC pythainlp openai gtts matplotlib playsound icrawler fastapi"
   ]
  },
  {
   "cell_type": "code",
   "execution_count": 10,
   "metadata": {},
   "outputs": [],
   "source": [
    "import matplotlib as mpl\n",
    "import os\n",
    "import matplotlib.font_manager\n",
    "if os.path.exists('./Sarabun-Regular.ttf') == False:\n",
    "    os.system('wget -q https://github.com/google/fonts/raw/main/ofl/sarabun/Sarabun-Regular.ttf')\n",
    "\n",
    "mpl.font_manager.fontManager.addfont('Sarabun-Regular.ttf')\n",
    "mpl.rc('font', family='Sarabun')"
   ]
  },
  {
   "cell_type": "code",
   "execution_count": 2,
   "metadata": {},
   "outputs": [],
   "source": [
    "import logging\n",
    "logging.disable(logging.CRITICAL)"
   ]
  },
  {
   "cell_type": "code",
   "execution_count": 6,
   "metadata": {},
   "outputs": [],
   "source": [
    "import os\n",
    "import shutil\n",
    "import random\n",
    "import matplotlib.pyplot as plt\n",
    "\n",
    "from PIL import Image\n",
    "from gtts import gTTS\n",
    "from openai import OpenAI\n",
    "from pythainlp.tokenize import word_tokenize\n",
    "from icrawler.builtin import GoogleImageCrawler\n",
    "\n",
    "def create_opentyphoon_client():\n",
    "    API_KEY='sk-psIjnhS63MFqDJzmrCnY6iLPr3iZ6wAXP57La0dvUcNoE9dc'\n",
    "    return OpenAI(\n",
    "        api_key=API_KEY,\n",
    "        base_url=\"https://api.opentyphoon.ai/v1\",\n",
    "    )\n",
    "\n",
    "def get_random_file_path(directory):\n",
    "    all_items = os.listdir(directory)\n",
    "    files = [f for f in all_items if os.path.isfile(os.path.join(directory, f))]\n",
    "    if not files:\n",
    "        return None\n",
    "    random_file = random.choice(files)\n",
    "    return os.path.join(directory, random_file)\n",
    "\n",
    "def cue_hierachy(state, target_word, client):\n",
    "    semantic_cue = f\"\"\"คุณเป็นนักบำบัดการพูดที่กำลังช่วยผู้ป่วยที่มีภาวะเสียการพูดฝึกฝนทักษะการพูดและการสื่อสาร จากโรค Aphasia\n",
    "    ผู้ป่วยอาจมีปัญหาในการหาคำและการสร้างประโยค คุณมีหน้าที่ช่วยผู้ป่วยให้สามารถคิดคำที่คุณใบ้ออก <โดยห้ามบอกถึงโดยตรง>\n",
    "    การใบ้คนไข้คุณต้องอธิบายประเภทของสิ่งที่จะใบ้ เช่น\n",
    "    ตัวอย่างการใบ้คุณยประเภทสำหรับคำว่า \"แอปเปิ้ล\"\n",
    "    มันเป็นผลไม้\n",
    "    ตัวอย่างการใบ้คุณยประเภทสำหรับคำว่า \"รถยนต์\"\n",
    "    มันคือยานพาหนะ\n",
    "    \"\"\"\n",
    "\n",
    "    sentence_completion_cue = f\"\"\"คุณเป็นนักบำบัดการพูดที่กำลังช่วยผู้ป่วยที่มีภาวะเสียการพูดฝึกฝนทักษะการพูดและการสื่อสาร จากโรค Aphasia\n",
    "    ผู้ป่วยอาจมีปัญหาในการหาคำและการสร้างประโยค คุณมีหน้าที่ช่วยผู้ป่วยให้สามารถคิดคำที่คุณใบ้ออก <โดยห้ามบอกถึงโดยตรง>\n",
    "    การใบ้คนไข้คุณต้องสร้างประโยคที่กำลังใช้หรือมีปฏิสัมพันธ์ของสิ่งที่จะใบ้ เช่น\n",
    "    ตัวอย่างการใบ้คำว่า \"แอปเปิ้ล\"\n",
    "    ผมกำลังเดินทางไปตลาดเผื่อซื้อผลไม้สีแดงสดมาทำขนมพาย\n",
    "    \"\"\"\n",
    "\n",
    "    phonemic_cue = f\"\"\"คุณเป็นนักบำบัดการพูดที่กำลังช่วยผู้ป่วยที่มีภาวะเสียการพูดฝึกฝนทักษะการพูดและการสื่อสาร จากโรค Aphasia\n",
    "    ผู้ป่วยอาจมีปัญหาในการหาคำและการสร้างประโยค คุณมีหน้าที่ช่วยผู้ป่วยให้สามารถคิดคำที่คุณใบ้ออก <โดยห้ามบอกถึงโดยตรง>\n",
    "    การใบ้คนไข้คุณต้องอธิบายลักษณะของเสียงพยัญชนะแรกของสิ่งที่จะใบ้ของคำๆนั้น เช่น\n",
    "    ตัวอย่างการใบ้คำว่า \"แอปเปิ้ล\"\n",
    "    เสียง ออ\n",
    "    ตัวอย่างการใบ้คำว่า \"กล้วย\"\n",
    "    เสียง กอ\n",
    "    ตัวอย่างการใบ้คำว่า \"คน\"\n",
    "    เสียง คอ\n",
    "    \"\"\"\n",
    "\n",
    "    functional_description_cue = f\"\"\"คุณเป็นนักบำบัดการพูดที่กำลังช่วยผู้ป่วยที่มีภาวะเสียการพูดฝึกฝนทักษะการพูดและการสื่อสาร จากโรค Aphasia\n",
    "    ผู้ป่วยอาจมีปัญหาในการหาคำและการสร้างประโยค คุณมีหน้าที่ช่วยผู้ป่วยให้สามารถคิดคำที่คุณใบ้ออก <โดยห้ามบอกถึงโดยตรง>\n",
    "    การใบ้คนไข้คุณต้องอธิบายลักษณะของสิ่งที่จะใบ้ เช่น\n",
    "    ตัวอย่างการใบ้คุณลักษณะสำหรับคำว่า \"แอปเปิ้ล\"\n",
    "    มันเป็นผลไม้ที่เอาไว้กิน มีสีแดงหรือสีเขียว มีผิวที่กลมและเรียบ มีขายตามห้างหรือร้านขายผลไม้\n",
    "    \"\"\"\n",
    "    \n",
    "    if state == 0:\n",
    "        mode = semantic_cue\n",
    "    elif state == 1:\n",
    "        mode = sentence_completion_cue\n",
    "    elif state == 2:\n",
    "        mode = phonemic_cue\n",
    "    elif state == 4:\n",
    "        mode = functional_description_cue\n",
    "    else:\n",
    "        return None\n",
    "\n",
    "    stream = client.chat.completions.create(\n",
    "    model=\"typhoon-instruct\",\n",
    "    messages=[\n",
    "        {\n",
    "            \"role\": \"systemp\",\n",
    "            \"content\": f'{mode}',\n",
    "        },\n",
    "        {\n",
    "            \"role\": \"user\",\n",
    "            \"content\": f\"ผมอยากพูดคำว่า {target_word}\",\n",
    "        }\n",
    "    ],\n",
    "    \n",
    "    max_tokens=300,\n",
    "    temperature=0,\n",
    "    top_p=0.99,\n",
    "    stream=True,\n",
    "    )\n",
    "\n",
    "    respond=[]\n",
    "    for chunk in stream:\n",
    "        if hasattr(chunk, 'choices') and len(chunk.choices) > 0:\n",
    "            choice = chunk.choices[0]\n",
    "            if hasattr(choice, 'delta') and hasattr(choice.delta, 'content'):\n",
    "                if choice.delta.content is not None:\n",
    "                    respond.append(choice.delta.content)\n",
    "\n",
    "    return \"\".join(respond).replace(target_word, '')"
   ]
  },
  {
   "cell_type": "markdown",
   "metadata": {},
   "source": [
    "0.Semantic Cue : อธิบายประเภท\n",
    "\n",
    "1.Sentence Completion Cue :สร้างประโยคที่เกี่ยวข้อง\n",
    "\n",
    "2.Phonemic Cue : อธิบายเสียงแรก\n",
    "\n",
    "3.Modeling Cue : เล่นเสียง\n",
    "\n",
    "4.Functional Description Cue : อธิบายรายละเอียด\n",
    "\n",
    "5.Printed Word Cue : เปิดคำ"
   ]
  },
  {
   "cell_type": "code",
   "execution_count": 7,
   "metadata": {},
   "outputs": [],
   "source": [
    "from fastapi import FastAPI, HTTPException\n",
    "from pydantic import BaseModel\n",
    "import uvicorn\n",
    "import nest_asyncio\n",
    "import json\n",
    "\n",
    "app = FastAPI()\n",
    "\n",
    "client = create_opentyphoon_client()\n",
    "\n",
    "class Cue_HierarchyRequest(BaseModel):\n",
    "    state: int\n",
    "    target_word: str\n",
    "    \n",
    "class Check_User_InputRequest(BaseModel):\n",
    "    state: int\n",
    "    target_word: str\n",
    "    user_input: str\n",
    "  \n",
    "def call_cue_hierarchy(state, target_word, client=client):\n",
    "    respond=None\n",
    "    audio_path=None\n",
    "    img_path=None\n",
    "    if state >= 0 and state <= 2:\n",
    "        respond = cue_hierachy(state, target_word, client)\n",
    "    elif state == 3:\n",
    "        tts = gTTS(target_word, lang='th')\n",
    "        tts.save('temp.mp3')\n",
    "        audio_path='./temp.mp3'\n",
    "    elif state == 4:\n",
    "        if os.path.exists('./img'):\n",
    "            shutil.rmtree('./img')\n",
    "            \n",
    "        google_crawler = GoogleImageCrawler(storage={'root_dir': './img'})\n",
    "        google_crawler.crawl(keyword=target_word, max_num=3)\n",
    "        img_path=get_random_file_path('./img')\n",
    "    elif state == 5:\n",
    "        tts = gTTS(target_word, lang='th')\n",
    "        tts.save('temp.mp3')\n",
    "        audio_path='./temp.mp3'\n",
    "        plt.figure(figsize=(4, 2))\n",
    "        plt.text(0.5, 0.5, target_word, fontsize=36, ha='center', va='center', transform=plt.gca().transAxes)\n",
    "        plt.axis('off')\n",
    "        img_path='./target_word.jpg'\n",
    "        plt.savefig('./target_word.jpg')\n",
    "    return_format={\"state\" : state}\n",
    "    if respond != None:\n",
    "        return_format = {\"respond\" : respond,}\n",
    "    if audio_path != None:\n",
    "        return_format.update({\"audio_path\": audio_path})\n",
    "    if img_path != None:\n",
    "        return_format.update({\"img_path\": img_path})\n",
    "    return return_format\n",
    "        \n",
    "def check_user_input(target_word, user_input):\n",
    "    user_respond = word_tokenize(user_input, engine=\"newmm\")\n",
    "    if target_word in user_respond:\n",
    "        return True\n",
    "    else:\n",
    "        return False"
   ]
  },
  {
   "cell_type": "code",
   "execution_count": 8,
   "metadata": {},
   "outputs": [
    {
     "data": {
      "text/plain": [
       "{'respond': 'มันเป็นสัตว์ชนิดหนึ่ง ที่มีขนาดเล็ก และมีปีก'}"
      ]
     },
     "execution_count": 8,
     "metadata": {},
     "output_type": "execute_result"
    }
   ],
   "source": [
    "call_cue_hierarchy(0, 'เป็ด')"
   ]
  },
  {
   "cell_type": "code",
   "execution_count": 10,
   "metadata": {},
   "outputs": [
    {
     "name": "stderr",
     "output_type": "stream",
     "text": [
      "INFO:     Started server process [10679]\n",
      "INFO:     Waiting for application startup.\n",
      "INFO:     Application startup complete.\n",
      "INFO:     Uvicorn running on http://127.0.0.1:12000 (Press CTRL+C to quit)\n"
     ]
    },
    {
     "name": "stdout",
     "output_type": "stream",
     "text": [
      "INFO:     127.0.0.1:53232 - \"POST /gen_question HTTP/1.1\" 200 OK\n",
      "INFO:     127.0.0.1:53232 - \"POST /gen_question HTTP/1.1\" 200 OK\n"
     ]
    }
   ],
   "source": [
    "@app.post(\"/gen_question\")\n",
    "async def cue_hierarchy_endpoint(request: Cue_HierarchyRequest):\n",
    "        result = call_cue_hierarchy(request.state, request.target_word)\n",
    "        return result\n",
    "    \n",
    "@app.post(\"/check_answer\")\n",
    "async def check_user_input_endpoint(request: Check_User_InputRequest):\n",
    "        result = check_user_input(request.target_word, request.user_input)\n",
    "        return result\n",
    "    \n",
    "\n",
    "nest_asyncio.apply()\n",
    "uvicorn.run(app, port=12000)"
   ]
  },
  {
   "cell_type": "code",
   "execution_count": null,
   "metadata": {},
   "outputs": [],
   "source": []
  },
  {
   "cell_type": "code",
   "execution_count": null,
   "metadata": {},
   "outputs": [],
   "source": []
  },
  {
   "cell_type": "code",
   "execution_count": null,
   "metadata": {},
   "outputs": [],
   "source": []
  }
 ],
 "metadata": {
  "kernelspec": {
   "display_name": ".venv",
   "language": "python",
   "name": "python3"
  },
  "language_info": {
   "codemirror_mode": {
    "name": "ipython",
    "version": 3
   },
   "file_extension": ".py",
   "mimetype": "text/x-python",
   "name": "python",
   "nbconvert_exporter": "python",
   "pygments_lexer": "ipython3",
   "version": "3.12.3"
  }
 },
 "nbformat": 4,
 "nbformat_minor": 2
}
