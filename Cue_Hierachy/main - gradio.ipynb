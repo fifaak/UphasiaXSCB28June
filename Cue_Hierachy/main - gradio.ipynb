{
 "cells": [
  {
   "cell_type": "code",
   "execution_count": 1,
   "metadata": {},
   "outputs": [
    {
     "name": "stdout",
     "output_type": "stream",
     "text": [
      "Note: you may need to restart the kernel to use updated packages.\n",
      "Note: you may need to restart the kernel to use updated packages.\n"
     ]
    }
   ],
   "source": [
    "%pip install --upgrade -q pip setuptools wheel\n",
    "%pip install -q Pylance PyObjC pythainlp openai gtts matplotlib playsound icrawler fastapi gradio"
   ]
  },
  {
   "cell_type": "code",
   "execution_count": 1,
   "metadata": {},
   "outputs": [],
   "source": [
    "import matplotlib as mpl\n",
    "import os\n",
    "import matplotlib.font_manager\n",
    "if os.path.exists('./Sarabun-Regular.ttf') == False:\n",
    "    os.system('wget -q https://github.com/google/fonts/raw/main/ofl/sarabun/Sarabun-Regular.ttf')\n",
    "\n",
    "mpl.font_manager.fontManager.addfont('Sarabun-Regular.ttf')\n",
    "mpl.rc('font', family='Sarabun')"
   ]
  },
  {
   "cell_type": "code",
   "execution_count": 39,
   "metadata": {},
   "outputs": [],
   "source": [
    "import logging\n",
    "logging.disable(logging.CRITICAL)"
   ]
  },
  {
   "cell_type": "code",
   "execution_count": 2,
   "metadata": {},
   "outputs": [],
   "source": [
    "import os\n",
    "import shutil\n",
    "import random\n",
    "import matplotlib.pyplot as plt\n",
    "\n",
    "from PIL import Image\n",
    "from gtts import gTTS\n",
    "from openai import OpenAI\n",
    "from pythainlp.tokenize import word_tokenize\n",
    "from icrawler.builtin import GoogleImageCrawler\n",
    "\n",
    "def create_opentyphoon_client():\n",
    "    API_KEY='sk-psIjnhS63MFqDJzmrCnY6iLPr3iZ6wAXP57La0dvUcNoE9dc'\n",
    "    return OpenAI(\n",
    "        api_key=API_KEY,\n",
    "        base_url=\"https://api.opentyphoon.ai/v1\",\n",
    "    )\n",
    "\n",
    "def get_random_file_path(directory):\n",
    "    all_items = os.listdir(directory)\n",
    "    files = [f for f in all_items if os.path.isfile(os.path.join(directory, f))]\n",
    "    if not files:\n",
    "        return None\n",
    "    random_file = random.choice(files)\n",
    "    return os.path.join(directory, random_file)\n",
    "\n",
    "def cue_hierachy(state, target_word, client):\n",
    "    semantic_cue = f\"\"\"คุณเป็นนักบำบัดการพูดที่กำลังช่วยผู้ป่วยที่มีภาวะเสียการพูดฝึกฝนทักษะการพูดและการสื่อสาร จากโรค Aphasia\n",
    "    ผู้ป่วยอาจมีปัญหาในการหาคำและการสร้างประโยค คุณมีหน้าที่ช่วยผู้ป่วยให้สามารถคิดคำที่คุณใบ้ออก <โดยห้ามบอกถึงโดยตรง>\n",
    "    การใบ้คนไข้คุณต้องอธิบายประเภทของสิ่งที่จะใบ้ เช่น\n",
    "    ตัวอย่างการใบ้คุณยประเภทสำหรับคำว่า \"แอปเปิ้ล\"\n",
    "    มันเป็นผลไม้\n",
    "    ตัวอย่างการใบ้คุณยประเภทสำหรับคำว่า \"รถยนต์\"\n",
    "    มันคือยานพาหนะ\n",
    "    \"\"\"\n",
    "\n",
    "    sentence_completion_cue = f\"\"\"คุณเป็นนักบำบัดการพูดที่กำลังช่วยผู้ป่วยที่มีภาวะเสียการพูดฝึกฝนทักษะการพูดและการสื่อสาร จากโรค Aphasia\n",
    "    ผู้ป่วยอาจมีปัญหาในการหาคำและการสร้างประโยค คุณมีหน้าที่ช่วยผู้ป่วยให้สามารถคิดคำที่คุณใบ้ออก <โดยห้ามบอกถึงโดยตรง>\n",
    "    การใบ้คนไข้คุณต้องสร้างประโยคที่กำลังใช้หรือมีปฏิสัมพันธ์ของสิ่งที่จะใบ้ เช่น\n",
    "    ตัวอย่างการใบ้คำว่า \"แอปเปิ้ล\"\n",
    "    ผมกำลังเดินทางไปตลาดเผื่อซื้อผลไม้สีแดงสดมาทำขนมพาย\n",
    "    \"\"\"\n",
    "\n",
    "    phonemic_cue = f\"\"\"คุณเป็นนักบำบัดการพูดที่กำลังช่วยผู้ป่วยที่มีภาวะเสียการพูดฝึกฝนทักษะการพูดและการสื่อสาร จากโรค Aphasia\n",
    "    ผู้ป่วยอาจมีปัญหาในการหาคำและการสร้างประโยค คุณมีหน้าที่ช่วยผู้ป่วยให้สามารถคิดคำที่คุณใบ้ออก <โดยห้ามบอกถึงโดยตรง>\n",
    "    การใบ้คนไข้คุณต้องอธิบายลักษณะของเสียงพยัญชนะแรกของสิ่งที่จะใบ้ของคำๆนั้น เช่น\n",
    "    ตัวอย่างการใบ้คำว่า \"แอปเปิ้ล\"\n",
    "    เสียง ออ\n",
    "    ตัวอย่างการใบ้คำว่า \"กล้วย\"\n",
    "    เสียง กอ\n",
    "    ตัวอย่างการใบ้คำว่า \"คน\"\n",
    "    เสียง คอ\n",
    "    \"\"\"\n",
    "\n",
    "    functional_description_cue = f\"\"\"คุณเป็นนักบำบัดการพูดที่กำลังช่วยผู้ป่วยที่มีภาวะเสียการพูดฝึกฝนทักษะการพูดและการสื่อสาร จากโรค Aphasia\n",
    "    ผู้ป่วยอาจมีปัญหาในการหาคำและการสร้างประโยค คุณมีหน้าที่ช่วยผู้ป่วยให้สามารถคิดคำที่คุณใบ้ออก <โดยห้ามบอกถึงโดยตรง>\n",
    "    การใบ้คนไข้คุณต้องอธิบายลักษณะของสิ่งที่จะใบ้ เช่น\n",
    "    ตัวอย่างการใบ้คุณลักษณะสำหรับคำว่า \"แอปเปิ้ล\"\n",
    "    มันเป็นผลไม้ที่เอาไว้กิน มีสีแดงหรือสีเขียว มีผิวที่กลมและเรียบ มีขายตามห้างหรือร้านขายผลไม้\n",
    "    \"\"\"\n",
    "    \n",
    "    if state == 0:\n",
    "        mode = semantic_cue\n",
    "    elif state == 1:\n",
    "        mode = sentence_completion_cue\n",
    "    elif state == 2:\n",
    "        mode = phonemic_cue\n",
    "    elif state == 4:\n",
    "        mode = functional_description_cue\n",
    "    else:\n",
    "        return None\n",
    "\n",
    "    stream = client.chat.completions.create(\n",
    "    model=\"typhoon-instruct\",\n",
    "    messages=[\n",
    "        {\n",
    "            \"role\": \"systemp\",\n",
    "            \"content\": f'{mode}',\n",
    "        },\n",
    "        {\n",
    "            \"role\": \"user\",\n",
    "            \"content\": f\"ผมอยากพูดคำว่า {target_word}\",\n",
    "        }\n",
    "    ],\n",
    "    \n",
    "    max_tokens=300,\n",
    "    temperature=0,\n",
    "    top_p=0.99,\n",
    "    stream=True,\n",
    "    )\n",
    "\n",
    "    respond=[]\n",
    "    for chunk in stream:\n",
    "        if hasattr(chunk, 'choices') and len(chunk.choices) > 0:\n",
    "            choice = chunk.choices[0]\n",
    "            if hasattr(choice, 'delta') and hasattr(choice.delta, 'content'):\n",
    "                if choice.delta.content is not None:\n",
    "                    respond.append(choice.delta.content)\n",
    "\n",
    "    return \"\".join(respond).replace(target_word, '')"
   ]
  },
  {
   "cell_type": "code",
   "execution_count": 3,
   "metadata": {},
   "outputs": [],
   "source": [
    "client = create_opentyphoon_client()\n",
    "\n",
    "def call_cue_hierarchy(state, target_word, client=client):\n",
    "    respond=None\n",
    "    audio_path=None\n",
    "    img_path=None\n",
    "    if state >= 0 and state <= 2:\n",
    "        respond = cue_hierachy(state, target_word, client)\n",
    "    elif state == 3:\n",
    "        tts = gTTS(target_word, lang='th')\n",
    "        tts.save('temp.mp3')\n",
    "        audio_path='./temp.mp3'\n",
    "    elif state == 4:\n",
    "        if os.path.exists('./img'):\n",
    "            shutil.rmtree('./img')\n",
    "            \n",
    "        google_crawler = GoogleImageCrawler(storage={'root_dir': './img'})\n",
    "        google_crawler.crawl(keyword=target_word, max_num=3)\n",
    "        img_path=get_random_file_path('./img')\n",
    "    elif state == 5:\n",
    "        tts = gTTS(target_word, lang='th')\n",
    "        tts.save('temp.mp3')\n",
    "        audio_path='./temp.mp3'\n",
    "        plt.figure(figsize=(4, 2))\n",
    "        plt.text(0.5, 0.5, target_word, fontsize=36, ha='center', va='center', transform=plt.gca().transAxes)\n",
    "        plt.axis('off')\n",
    "        img_path='./target_word.jpg'\n",
    "        plt.savefig('./target_word.jpg')\n",
    "    return_format={\"state\" : state}\n",
    "    if respond != None:\n",
    "        return_format.update({\"respond\" : respond,})\n",
    "    if audio_path != None:\n",
    "        return_format.update({\"audio_path\": audio_path})\n",
    "    if img_path != None:\n",
    "        return_format.update({\"img_path\": img_path})\n",
    "    return return_format\n",
    "        \n",
    "def check_user_input(target_word, user_input):\n",
    "    user_respond = word_tokenize(user_input, engine=\"newmm\")\n",
    "    if target_word in user_respond:\n",
    "        return True\n",
    "    else:\n",
    "        return False"
   ]
  },
  {
   "cell_type": "markdown",
   "metadata": {},
   "source": [
    "0.Semantic Cue : อธิบายประเภท\n",
    "\n",
    "1.Sentence Completion Cue :สร้างประโยคที่เกี่ยวข้อง\n",
    "\n",
    "2.Phonemic Cue : อธิบายเสียงแรก\n",
    "\n",
    "3.Modeling Cue : เล่นเสียง\n",
    "\n",
    "4.Functional Description Cue : อธิบายรายละเอียด\n",
    "\n",
    "5.Printed Word Cue : เปิดคำ"
   ]
  },
  {
   "cell_type": "code",
   "execution_count": 64,
   "metadata": {},
   "outputs": [
    {
     "name": "stdout",
     "output_type": "stream",
     "text": [
      "{'state': 0, 'respond': 'เป็นผู้ที่มีความรู้และความชำนาญในการกฎหมาย เขาจะช่วยคุณในการจัดการกับคดีความหรือข้อพิพาทต่างๆ'}\n",
      "{'state': 1, 'respond': 'เมื่อคุณไปศาล คุณต้องการผู้ช่วยที่มีความรู้กฎหมายและสามารถอธิบายความหมายของกฎหมายให้คุณเข้าใจ'}\n",
      "{'state': 2, 'respond': 'เสียง ทอ'}\n",
      "{'state': 3, 'audio_path': './temp.mp3'}\n",
      "{'state': 4, 'img_path': './img/000002.png'}\n",
      "{'state': 5, 'audio_path': './temp.mp3', 'img_path': './target_word.jpg'}\n"
     ]
    }
   ],
   "source": [
    "for i in range(6):\n",
    "    print(call_cue_hierarchy(i,'ทนาย'))"
   ]
  },
  {
   "cell_type": "code",
   "execution_count": 13,
   "metadata": {},
   "outputs": [
    {
     "name": "stderr",
     "output_type": "stream",
     "text": [
      "2024-06-30 11:12:55,194 - INFO - httpx - HTTP Request: POST https://api.opentyphoon.ai/v1/chat/completions \"HTTP/1.1 200 OK\"\n",
      "2024-06-30 11:12:55,806 - INFO - httpx - HTTP Request: GET http://127.0.0.1:7866/startup-events \"HTTP/1.1 200 OK\"\n",
      "2024-06-30 11:12:55,811 - INFO - httpx - HTTP Request: HEAD http://127.0.0.1:7866/ \"HTTP/1.1 200 OK\"\n"
     ]
    },
    {
     "name": "stdout",
     "output_type": "stream",
     "text": [
      "Running on local URL:  http://127.0.0.1:7866\n"
     ]
    },
    {
     "name": "stderr",
     "output_type": "stream",
     "text": [
      "2024-06-30 11:12:56,709 - INFO - httpx - HTTP Request: GET https://api.gradio.app/pkg-version \"HTTP/1.1 200 OK\"\n",
      "2024-06-30 11:12:56,710 - INFO - httpx - HTTP Request: GET https://api.gradio.app/v2/tunnel-request \"HTTP/1.1 200 OK\"\n"
     ]
    },
    {
     "name": "stdout",
     "output_type": "stream",
     "text": [
      "Running on public URL: https://678f62e6787d293555.gradio.live\n",
      "\n",
      "This share link expires in 72 hours. For free permanent hosting and GPU upgrades, run `gradio deploy` from Terminal to deploy to Spaces (https://huggingface.co/spaces)\n"
     ]
    },
    {
     "name": "stderr",
     "output_type": "stream",
     "text": [
      "2024-06-30 11:12:58,635 - INFO - httpx - HTTP Request: HEAD https://678f62e6787d293555.gradio.live \"HTTP/1.1 200 OK\"\n"
     ]
    },
    {
     "data": {
      "text/html": [
       "<div><iframe src=\"https://678f62e6787d293555.gradio.live\" width=\"100%\" height=\"500\" allow=\"autoplay; camera; microphone; clipboard-read; clipboard-write;\" frameborder=\"0\" allowfullscreen></iframe></div>"
      ],
      "text/plain": [
       "<IPython.core.display.HTML object>"
      ]
     },
     "metadata": {},
     "output_type": "display_data"
    },
    {
     "data": {
      "text/plain": []
     },
     "execution_count": 13,
     "metadata": {},
     "output_type": "execute_result"
    },
    {
     "name": "stderr",
     "output_type": "stream",
     "text": [
      "2024-06-30 11:15:15,942 - INFO - httpx - HTTP Request: POST https://api.opentyphoon.ai/v1/chat/completions \"HTTP/1.1 200 OK\"\n",
      "2024-06-30 11:15:21,122 - INFO - httpx - HTTP Request: POST https://api.opentyphoon.ai/v1/chat/completions \"HTTP/1.1 200 OK\"\n"
     ]
    }
   ],
   "source": [
    "import gradio as gr\n",
    "import random\n",
    "\n",
    "# target_word='ทนาย'\n",
    "state=1\n",
    "def config_gradio(target_word, user_input):\n",
    "    global state\n",
    "    if state <= 6:\n",
    "        respond=call_cue_hierarchy(state,target_word)\n",
    "        if state == 1 or state == 2:\n",
    "            state=state+1\n",
    "            return respond['state'], respond['respond'], None, None, check_user_input(target_word, user_input)\n",
    "        elif state == 3:\n",
    "            state=state+1\n",
    "            return respond['state'], None, None, respond['audio_path'], check_user_input(target_word, user_input)\n",
    "        elif state == 4:\n",
    "            state=state+1\n",
    "            return respond['state'], None, respond['img_path'], None, check_user_input(target_word, user_input)\n",
    "        elif state == 5:\n",
    "            return respond['state'], None, respond['img_path'], respond['audio_path'], check_user_input(target_word, user_input)\n",
    "        else:\n",
    "            return respond['state'], None, respond['img_path'], respond['audio_path'], check_user_input(target_word, user_input)\n",
    "\n",
    "outputs = [gr.Textbox(label=\"State\", value=state-1), gr.Textbox(label=\"question\", value=call_cue_hierarchy(0,'ทนาย')['respond']), gr.Image(label=\"Image question\"), gr.Audio(label=\"Audio question\"), gr.Textbox(label=\"Check Answer\")]\n",
    "    \n",
    "demo = gr.Interface(fn=config_gradio,\n",
    "             inputs=[gr.Textbox(label=\"Enter target word\", value='ทนาย'), gr.Textbox(label=\"Enter your word\")],\n",
    "             \n",
    "             outputs=outputs,\n",
    "             )\n",
    "\n",
    "demo.launch(share=True)"
   ]
  },
  {
   "cell_type": "code",
   "execution_count": null,
   "metadata": {},
   "outputs": [],
   "source": []
  }
 ],
 "metadata": {
  "kernelspec": {
   "display_name": ".venv",
   "language": "python",
   "name": "python3"
  },
  "language_info": {
   "codemirror_mode": {
    "name": "ipython",
    "version": 3
   },
   "file_extension": ".py",
   "mimetype": "text/x-python",
   "name": "python",
   "nbconvert_exporter": "python",
   "pygments_lexer": "ipython3",
   "version": "3.12.3"
  }
 },
 "nbformat": 4,
 "nbformat_minor": 2
}
